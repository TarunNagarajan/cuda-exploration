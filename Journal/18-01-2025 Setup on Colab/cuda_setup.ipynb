{
  "nbformat": 4,
  "nbformat_minor": 0,
  "metadata": {
    "colab": {
      "provenance": [],
      "gpuType": "T4"
    },
    "kernelspec": {
      "name": "python3",
      "display_name": "Python 3"
    },
    "language_info": {
      "name": "python"
    },
    "accelerator": "GPU"
  },
  "cells": [
    {
      "cell_type": "markdown",
      "source": [
        "## Setting Up CUDA on Colab - 18/01/2025\n",
        "Today I ran my first CUDA code!\n",
        "\n",
        "\n",
        "So what I did was I mounted my Google Drive to this notebook that I was supposed to work on, then I connected to a GPU runtime (T4). Then I ran a command to check the directory that I was working on."
      ],
      "metadata": {
        "id": "sL843F_oUKie"
      }
    },
    {
      "cell_type": "code",
      "execution_count": null,
      "metadata": {
        "id": "JKdHZmtYP6mv"
      },
      "outputs": [],
      "source": [
        "%cd /content/drive/MyDrive/CUDA-Colab/\n",
        "!pwd\n",
        "!ls"
      ]
    },
    {
      "cell_type": "markdown",
      "source": [
        "The pwd command displays the current working directory (the folder you are currently in) in the terminal.\n",
        "\n",
        "The ls command lists all the files and directories in the current directory."
      ],
      "metadata": {
        "id": "GZKiOT4SU9sH"
      }
    },
    {
      "cell_type": "code",
      "source": [
        "!g++ HelloWorld.cpp\n",
        "!./a.out"
      ],
      "metadata": {
        "id": "p9gbPCXPQyDP"
      },
      "execution_count": null,
      "outputs": []
    },
    {
      "cell_type": "markdown",
      "source": [
        "Compiled the cpp code that I had written on my own Sublime Text Editor."
      ],
      "metadata": {
        "id": "1PFidG0RVWC_"
      }
    },
    {
      "cell_type": "code",
      "source": [
        "!which nvcc"
      ],
      "metadata": {
        "id": "mX-_1-urSUo3"
      },
      "execution_count": null,
      "outputs": []
    },
    {
      "cell_type": "markdown",
      "source": [
        "The command !which nvcc shows the path to the nvcc (NVIDIA CUDA Compiler) executable if it is installed and available in the system's PATH."
      ],
      "metadata": {
        "id": "XLWuFbyiVehm"
      }
    },
    {
      "cell_type": "code",
      "source": [
        "!ls -l /dev/nv*"
      ],
      "metadata": {
        "id": "DwMuXeHwSeJG"
      },
      "execution_count": null,
      "outputs": []
    },
    {
      "cell_type": "markdown",
      "source": [
        "The command !ls -l /dev/nv* lists detailed information about all devices in the /dev/ directory whose names start with nv, typically showing the GPU-related device files (e.g., nvhost, nvidia0, etc.) used by the NVIDIA driver and CUDA toolkit."
      ],
      "metadata": {
        "id": "-mVp50rUViFW"
      }
    },
    {
      "cell_type": "code",
      "source": [
        "!nvcc test.cu -o test"
      ],
      "metadata": {
        "id": "TvYfzRBhSr1G"
      },
      "execution_count": 8,
      "outputs": []
    },
    {
      "cell_type": "code",
      "source": [
        "\"\"\"\n",
        "#include <stdio.h>\n",
        "\n",
        "__global__ void HelloFromGPU(void) {\n",
        "  printf(\"Hello World from GPU! \\n\");\n",
        "}\n",
        "\n",
        "int main(void) {\n",
        "  printf(\"Hello World from CPU! \\n\");\n",
        "  HelloFromGPU <<<1, 10>>>();\n",
        "  cudaDeviceReset();\n",
        "  return 0;\n",
        "}\n",
        "\"\"\""
      ],
      "metadata": {
        "id": "KUbsw9iWWUK2"
      },
      "execution_count": null,
      "outputs": []
    },
    {
      "cell_type": "markdown",
      "source": [
        "The command !nvcc test.cu -o test compiles the CUDA source file test.cu using the NVIDIA CUDA Compiler (nvcc) and generates an executable named test.\n",
        "\n",
        "Meanwhile, I wrote some CPP - but it was nothing like anything I've written before."
      ],
      "metadata": {
        "id": "31Lv1sxIV1y1"
      }
    },
    {
      "cell_type": "code",
      "source": [
        "!./test"
      ],
      "metadata": {
        "colab": {
          "base_uri": "https://localhost:8080/"
        },
        "id": "AfGsch3xTrTg",
        "outputId": "cd842c33-6cd4-49ae-a2c0-64ffe0dfec38"
      },
      "execution_count": 15,
      "outputs": [
        {
          "output_type": "stream",
          "name": "stdout",
          "text": [
            "Hello World from CPU! \n",
            "Hello World from GPU! \n",
            "Hello World from GPU! \n",
            "Hello World from GPU! \n",
            "Hello World from GPU! \n",
            "Hello World from GPU! \n",
            "Hello World from GPU! \n",
            "Hello World from GPU! \n",
            "Hello World from GPU! \n",
            "Hello World from GPU! \n",
            "Hello World from GPU! \n"
          ]
        }
      ]
    }
  ]
}